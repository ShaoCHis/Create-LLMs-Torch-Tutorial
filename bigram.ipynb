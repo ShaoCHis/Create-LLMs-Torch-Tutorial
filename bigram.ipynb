{
 "cells": [
  {
   "cell_type": "code",
   "execution_count": 11,
   "metadata": {},
   "outputs": [
    {
     "name": "stdout",
     "output_type": "stream",
     "text": [
      "cuda\n"
     ]
    }
   ],
   "source": [
    "# torch处理张量，张量即为矩阵格式的数据\n",
    "import torch\n",
    "import torch.nn as nn\n",
    "from torch.nn import functional as F\n",
    "device = 'cuda' if torch.cuda.is_available() else 'cpu'\n",
    "print(device)\n",
    "# 划分块大小\n",
    "block_size = 8\n",
    "# batch，实际上我们可以并行处理多少个相同的序列，使用GPU，即批大小\n",
    "batch_size = 4"
   ]
  },
  {
   "cell_type": "code",
   "execution_count": 12,
   "metadata": {},
   "outputs": [
    {
     "name": "stdout",
     "output_type": "stream",
     "text": [
      "232307\n",
      "﻿DOROTHY AND THE WIZARD IN OZ\n",
      "\n",
      "  BY\n",
      "\n",
      "  L. FRANK BAUM\n",
      "\n",
      "  AUTHOR OF THE WIZARD OF OZ, THE LAND OF OZ, OZMA OF OZ, ETC.\n",
      "\n",
      "  ILLUSTRATED BY JOHN R. NEILL\n",
      "\n",
      "  BOOKS OF WONDER WILLIAM MORROW & CO., INC. NEW Y\n"
     ]
    }
   ],
   "source": [
    "with open(\"./database/wizard_of_oz.txt\",'r',encoding='utf-8') as f:\n",
    "    text = f.read()\n",
    "print(len(text))\n",
    "print(text[:200])"
   ]
  },
  {
   "cell_type": "code",
   "execution_count": 13,
   "metadata": {},
   "outputs": [
    {
     "name": "stdout",
     "output_type": "stream",
     "text": [
      "['\\n', ' ', '!', '\"', '&', \"'\", '(', ')', '*', ',', '-', '.', '0', '1', '2', '3', '4', '5', '6', '7', '8', '9', ':', ';', '?', 'A', 'B', 'C', 'D', 'E', 'F', 'G', 'H', 'I', 'J', 'K', 'L', 'M', 'N', 'O', 'P', 'Q', 'R', 'S', 'T', 'U', 'V', 'W', 'X', 'Y', 'Z', '[', ']', '_', 'a', 'b', 'c', 'd', 'e', 'f', 'g', 'h', 'i', 'j', 'k', 'l', 'm', 'n', 'o', 'p', 'q', 'r', 's', 't', 'u', 'v', 'w', 'x', 'y', 'z', '\\ufeff']\n"
     ]
    }
   ],
   "source": [
    "# 为后续分词器做铺垫，encoder and decoder\n",
    "# encoder：character to integer\n",
    "# decode：integer to character\n",
    "chars = sorted(set(text))\n",
    "print(chars)\n",
    "vocab_size = len(chars)"
   ]
  },
  {
   "cell_type": "code",
   "execution_count": 14,
   "metadata": {},
   "outputs": [
    {
     "name": "stdout",
     "output_type": "stream",
     "text": [
      "[61, 58, 65, 65, 68]\n",
      "Z-.0\n"
     ]
    }
   ],
   "source": [
    "# 分词器\n",
    "# 字典，按照字符在枚举里面出现的顺序作为数字编码;字符级标记器\n",
    "string_to_int = {ch:i for i,ch in enumerate(chars)}\n",
    "int_to_string = {i:ch for i,ch in enumerate(chars)}\n",
    "encode = lambda s:[string_to_int[c] for c in s]\n",
    "decode = lambda l:''.join([int_to_string[i] for i in l])\n",
    "print(encode('hello'))\n",
    "print(decode([50,10,11,12]))"
   ]
  },
  {
   "cell_type": "code",
   "execution_count": 15,
   "metadata": {
    "scrolled": true
   },
   "outputs": [
    {
     "data": {
      "text/plain": [
       "tensor([80, 28, 39, 42, 39, 44, 32, 49,  1, 25, 38, 28,  1, 44, 32, 29,  1, 47,\n",
       "        33, 50, 25, 42, 28,  1, 33, 38,  1, 39, 50,  0,  0,  1,  1, 26, 49,  0,\n",
       "         0,  1,  1, 36, 11,  1, 30, 42, 25, 38, 35,  1, 26, 25, 45, 37,  0,  0,\n",
       "         1,  1, 25, 45, 44, 32, 39, 42,  1, 39, 30,  1, 44, 32, 29,  1, 47, 33,\n",
       "        50, 25, 42, 28,  1, 39, 30,  1, 39, 50,  9,  1, 44, 32, 29,  1, 36, 25,\n",
       "        38, 28,  1, 39, 30,  1, 39, 50,  9,  1])"
      ]
     },
     "execution_count": 15,
     "metadata": {},
     "output_type": "execute_result"
    }
   ],
   "source": [
    "# prepare data and set it as torch dot tensor\n",
    "data = torch.tensor(encode(text),dtype=torch.long)\n",
    "data[:100]"
   ]
  },
  {
   "cell_type": "code",
   "execution_count": 16,
   "metadata": {},
   "outputs": [
    {
     "name": "stdout",
     "output_type": "stream",
     "text": [
      "when input is tensor([80]) target is tensor(28)\n",
      "when input is tensor([80, 28]) target is tensor(39)\n",
      "when input is tensor([80, 28, 39]) target is tensor(42)\n",
      "when input is tensor([80, 28, 39, 42]) target is tensor(39)\n",
      "when input is tensor([80, 28, 39, 42, 39]) target is tensor(44)\n",
      "when input is tensor([80, 28, 39, 42, 39, 44]) target is tensor(32)\n",
      "when input is tensor([80, 28, 39, 42, 39, 44, 32]) target is tensor(49)\n",
      "when input is tensor([80, 28, 39, 42, 39, 44, 32, 49]) target is tensor(1)\n"
     ]
    }
   ],
   "source": [
    "# validation and training splits\n",
    "# 将数据分为训练集和测试集\n",
    "n = int(0.8*len(data))\n",
    "train_data = data[:n]\n",
    "val_data = data[n:]\n",
    "\n",
    "x = train_data[:block_size]\n",
    "y = train_data[1:block_size+1]\n",
    "\n",
    "for t in range(block_size):\n",
    "    context = x[:t+1]\n",
    "    target = y[t]\n",
    "    print('when input is',context,'target is',target)"
   ]
  },
  {
   "cell_type": "code",
   "execution_count": 17,
   "metadata": {},
   "outputs": [
    {
     "name": "stdout",
     "output_type": "stream",
     "text": [
      "tensor([ 56436, 142547, 160463, 182336])\n",
      "inputs:\n",
      "tensor([[ 1, 73, 74, 71, 67, 58, 57,  1],\n",
      "        [71, 68, 60, 71, 58, 72, 72,  1],\n",
      "        [74, 58,  1, 58, 67, 68, 74, 60],\n",
      "        [54,  0, 72, 61, 54, 71, 69,  1]], device='cuda:0')\n",
      "targets:\n",
      "tensor([[73, 74, 71, 67, 58, 57,  1, 54],\n",
      "        [68, 60, 71, 58, 72, 72,  1, 59],\n",
      "        [58,  1, 58, 67, 68, 74, 60, 61],\n",
      "        [ 0, 72, 61, 54, 71, 69,  1, 56]], device='cuda:0')\n"
     ]
    }
   ],
   "source": [
    "# batch function\n",
    "n = int(0.8*len(data))\n",
    "train_data = data[:n]\n",
    "val_data = data[n:]\n",
    "\n",
    "def get_batch (split):\n",
    "    # 随机得到一个批次的数据，得到批次的块起点\n",
    "    data = train_data if split =='train' else val_data\n",
    "    ix = torch.randint(len(data) - block_size,(batch_size,))\n",
    "    print(ix)\n",
    "    # 通过块起点，拿取一个块的数据\n",
    "    x = torch.stack([data[i:i+block_size] for i in ix])\n",
    "    y = torch.stack([data[i+1:i+block_size+1] for i in ix])\n",
    "    # 将tensor向量加载在cuda上\n",
    "    x, y = x.to(device),y.to(device)\n",
    "    return x,y\n",
    "\n",
    "x,y = get_batch('train')\n",
    "print('inputs:')\n",
    "print(x)\n",
    "print('targets:')\n",
    "print(y)"
   ]
  },
  {
   "cell_type": "code",
   "execution_count": 18,
   "metadata": {},
   "outputs": [
    {
     "name": "stdout",
     "output_type": "stream",
     "text": [
      "\n",
      "U!fF]e5t1pxY))H29;2Idl5-;um[kS\n",
      "T)C:A?zXyvJ﻿6a7bpB﻿?7ZMo8Qb?1o.xjdz﻿oLWD9HO: *WowrABW.\"&]H 1x?&﻿Xqm﻿\"LNF79&SWBV  hNqf!DsdI*V.'sX\";ifMy.gjUUCp6ankNJv:wD5pHKJ﻿v95b]roiKDZojeG_D;(iZRT[7,﻿?YKlMzeo.wF9)O\n",
      "C\"*vde];2fVGxs:(x*ZRENE!SQXSosXnvV,y sMMJ﻿-&CB.s_[﻿:rxxsaGBt]8!fNkk,G7YCluP'qRce5 \n",
      "Al09X;:AlE*isdK)ewPsXd0pn6Dm(Umx1I3d6'﻿GJ﻿J]5-R('x-sX:mZ4kUAl:qvGbv)1qYX;WNko7HOYMXx﻿4mPx_um'qh[ERT\"[Wxg:\n",
      "fMPvBjmh1a-(m9_D﻿,UQSl*_?jze:JM0[bg9_dlGZ36o2dUX-Sd&tV&*iOW4kxwlJvc0(2;'﻿5y9_AwLLN_O\n",
      "LJ9bSy O5sSol_c.-1kJLovl4;NW\n"
     ]
    }
   ],
   "source": [
    "# 传入参数为 nn.Module，说明这个模型的参数都是可学习的，权重矩阵将通过梯度下降而改变\n",
    "# 梯度下降是为了找到损失函数的最小值，损失函数值越小，说明模型的鲁棒性越好\n",
    "# 损失函数L(Y,f(x))度量该样本经决策函数f计算后的输出预测值f(x)与样本真实值Y之间的不一致程度，反向传播，更新f(x)中各参数，使得f(x)与Y的差异减小\n",
    "# 假设：在网络中有w1,w2,w3,w4,w5五个参数权重，最终计算出来的loss为l，那么看每一个参数对l的贡献为多少，求偏导：链式求偏导l/w1，然后按照梯度下降的即loss减小的方向更新w1，即反向传播更新权重\n",
    "# w1_new = w1 - learningRate*gradient 学习率也就在此发挥作用\n",
    "\n",
    "# AdamW 相较于 Adam 拥有权重更新，不会处于非常高或者非常低的水平，拥有更好的泛化能力\n",
    "class BigramLanguageModel(nn.Module):\n",
    "    def __init__(self,vocab_size):\n",
    "        super().__init__()\n",
    "        self.token_embeddings_table = nn.Embedding(vocab_size,vocab_size)\n",
    "\n",
    "# Embedding table\n",
    "#    a   b   c   d   e   f   g\n",
    "# a aa(69) ab(50) ac(70) ad(10)··· \n",
    "# b        \n",
    "# c        \n",
    "# d\n",
    "# e\n",
    "# f\n",
    "# g\n",
    "# 从Embedding table中我们关注特定的一行，比如第一行，在出现字母a时，出现字母c的概率比出现a,b,d的概率大，这就是嵌入表的作用，可以对一行进行正则化，就得到后续字符的概率\n",
    "# 这也是为什么使用vocab_size作为嵌入表的大小\n",
    "\n",
    "# 不使用默认的前向传递，有助于获取更多的模型的信息，而不是黑盒子   \n",
    "\n",
    "#######################\n",
    "# 下述实现仅仅考虑前向传播，而没有考虑反向传播以更新权重\n",
    "#######################\n",
    "\n",
    "# logits是正则化，即概率分布，与上面出现次数相对应，概率即百分比\n",
    "    def forward(self, index, targets = None):\n",
    "        logits = self.token_embeddings_table(index)\n",
    "        \n",
    "        # 前向传播时，不会计算loss，即logits仍然为三维信息\n",
    "        if targets is None:\n",
    "            loss = None\n",
    "        else:\n",
    "            # Batch,Time sequence,Channel\n",
    "            # 看另一个notebook进行详细解释\n",
    "            B, T, C = logits.shape\n",
    "            # logits的形状为BxTxC，而torch期望的形状为BxT and C。所以我们需要重塑矩阵使之符合torch的期望\n",
    "            logits = logits.view(B*T,C)\n",
    "            targets = targets.view(B*T)\n",
    "            # 交叉熵损失函数\n",
    "            loss = F.cross_entropy(logits,targets)\n",
    "        \n",
    "        return logits,loss\n",
    "    \n",
    "    # 这个模型为二元模型，也就是在ABCD中，我们只关注B--》C，而不是用 AB---》C\n",
    "    def generate(self, index, max_new_tokens):\n",
    "        # index is (B,T) array of indices in the current context\n",
    "        for _ in range(max_new_tokens):\n",
    "            # get the predictions\n",
    "            logits, loss = self.forward(index)\n",
    "            # focus only on the last time step\n",
    "            # 从后往前，仅仅关注最后一个\n",
    "            logits = logits[:,-1,:] # becomes (B,C)\n",
    "            # apply softmax to get probabilities\n",
    "            # dim = -1 ，仅仅关注最后一个维度，应用softmax将所有的数值转换到0~1上作为概率\n",
    "            probs = F.softmax(logits,dim=-1) # (B,C)\n",
    "            # sample from the distribution\n",
    "            # 从probs中按照概率随机生成下一个字符索引\n",
    "            index_next = torch.multinomial(probs,num_samples =1) # (B,1)\n",
    "            # append sampled index to the running sequence\n",
    "            index = torch.cat((index,index_next),dim=1) # (B,T+1)，T为已知信息长度，初始为1\n",
    "        return index\n",
    "\n",
    "model = BigramLanguageModel(vocab_size)\n",
    "m = model.to(device)\n",
    "# 首先，我们给定一个起始字符为1\n",
    "context = torch.zeros((1,1),dtype = torch.long,device=device)\n",
    "# 然后循环生成后续的500个字符\n",
    "generate_chars = decode(m.generate(context,max_new_tokens = 500)[0].tolist())\n",
    "print(generate_chars)"
   ]
  },
  {
   "cell_type": "code",
   "execution_count": null,
   "metadata": {},
   "outputs": [],
   "source": []
  }
 ],
 "metadata": {
  "kernelspec": {
   "display_name": "cuda-gpt",
   "language": "python",
   "name": "cuda"
  },
  "language_info": {
   "codemirror_mode": {
    "name": "ipython",
    "version": 3
   },
   "file_extension": ".py",
   "mimetype": "text/x-python",
   "name": "python",
   "nbconvert_exporter": "python",
   "pygments_lexer": "ipython3",
   "version": "3.9.7"
  }
 },
 "nbformat": 4,
 "nbformat_minor": 4
}
